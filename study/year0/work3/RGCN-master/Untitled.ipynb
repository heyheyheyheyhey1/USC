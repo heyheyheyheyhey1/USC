{
 "cells": [
  {
   "cell_type": "code",
   "execution_count": 1,
   "id": "1cb52067",
   "metadata": {},
   "outputs": [
    {
     "name": "stderr",
     "output_type": "stream",
     "text": [
      "C:\\CondaEnvs\\work3\\lib\\site-packages\\tqdm\\auto.py:22: TqdmWarning: IProgress not found. Please update jupyter and ipywidgets. See https://ipywidgets.readthedocs.io/en/stable/user_install.html\n",
      "  from .autonotebook import tqdm as notebook_tqdm\n"
     ]
    }
   ],
   "source": [
    "import torch\n",
    "import pandas as pd\n",
    "import numpy as np\n",
    "import os\n",
    "from models import RGCN\n",
    "import utils"
   ]
  },
  {
   "cell_type": "code",
   "execution_count": 2,
   "id": "46935f1d",
   "metadata": {},
   "outputs": [],
   "source": [
    "test = pd.read_csv(os.path.join(\"test.csv\"),header=None,sep='\\t')\n",
    "train = pd.read_csv(os.path.join(\"train.csv\"),header=None,sep='\\t')\n"
   ]
  },
  {
   "cell_type": "code",
   "execution_count": 3,
   "id": "cd7362b1",
   "metadata": {},
   "outputs": [
    {
     "data": {
      "text/plain": [
       "(11932, 3)"
      ]
     },
     "execution_count": 3,
     "metadata": {},
     "output_type": "execute_result"
    }
   ],
   "source": [
    "test.shape"
   ]
  },
  {
   "cell_type": "code",
   "execution_count": 4,
   "id": "70f4570e",
   "metadata": {},
   "outputs": [
    {
     "data": {
      "text/plain": [
       "(47727, 3)"
      ]
     },
     "execution_count": 4,
     "metadata": {},
     "output_type": "execute_result"
    }
   ],
   "source": [
    "train.shape"
   ]
  },
  {
   "cell_type": "code",
   "execution_count": 5,
   "id": "8367a0fa",
   "metadata": {},
   "outputs": [
    {
     "data": {
      "text/plain": [
       "(59659, 3)"
      ]
     },
     "execution_count": 5,
     "metadata": {},
     "output_type": "execute_result"
    }
   ],
   "source": [
    "triplets = pd.concat([train,test])\n",
    "triplets.shape"
   ]
  },
  {
   "cell_type": "code",
   "execution_count": 6,
   "id": "15df57af",
   "metadata": {},
   "outputs": [
    {
     "data": {
      "text/html": [
       "<div>\n",
       "<style scoped>\n",
       "    .dataframe tbody tr th:only-of-type {\n",
       "        vertical-align: middle;\n",
       "    }\n",
       "\n",
       "    .dataframe tbody tr th {\n",
       "        vertical-align: top;\n",
       "    }\n",
       "\n",
       "    .dataframe thead th {\n",
       "        text-align: right;\n",
       "    }\n",
       "</style>\n",
       "<table border=\"1\" class=\"dataframe\">\n",
       "  <thead>\n",
       "    <tr style=\"text-align: right;\">\n",
       "      <th></th>\n",
       "      <th>0</th>\n",
       "      <th>1</th>\n",
       "      <th>2</th>\n",
       "    </tr>\n",
       "  </thead>\n",
       "  <tbody>\n",
       "    <tr>\n",
       "      <th>0</th>\n",
       "      <td>DB00073</td>\n",
       "      <td>D008206</td>\n",
       "      <td>DB12240</td>\n",
       "    </tr>\n",
       "    <tr>\n",
       "      <th>1</th>\n",
       "      <td>DB00741</td>\n",
       "      <td>D011085</td>\n",
       "      <td>DB01234</td>\n",
       "    </tr>\n",
       "    <tr>\n",
       "      <th>2</th>\n",
       "      <td>DB06186</td>\n",
       "      <td>D011471</td>\n",
       "      <td>DB00958</td>\n",
       "    </tr>\n",
       "    <tr>\n",
       "      <th>3</th>\n",
       "      <td>DB00002</td>\n",
       "      <td>D006258</td>\n",
       "      <td>DB00958</td>\n",
       "    </tr>\n",
       "    <tr>\n",
       "      <th>4</th>\n",
       "      <td>DB06186</td>\n",
       "      <td>D009375</td>\n",
       "      <td>DB01611</td>\n",
       "    </tr>\n",
       "    <tr>\n",
       "      <th>5</th>\n",
       "      <td>DB01101</td>\n",
       "      <td>D005767</td>\n",
       "      <td>DB00112</td>\n",
       "    </tr>\n",
       "    <tr>\n",
       "      <th>6</th>\n",
       "      <td>DB11581</td>\n",
       "      <td>D015448</td>\n",
       "      <td>DB11703</td>\n",
       "    </tr>\n",
       "    <tr>\n",
       "      <th>7</th>\n",
       "      <td>DB05812</td>\n",
       "      <td>D009370</td>\n",
       "      <td>DB11901</td>\n",
       "    </tr>\n",
       "    <tr>\n",
       "      <th>8</th>\n",
       "      <td>DB06626</td>\n",
       "      <td>D007674</td>\n",
       "      <td>DB01268</td>\n",
       "    </tr>\n",
       "    <tr>\n",
       "      <th>9</th>\n",
       "      <td>DB00073</td>\n",
       "      <td>D007160</td>\n",
       "      <td>DB15140</td>\n",
       "    </tr>\n",
       "  </tbody>\n",
       "</table>\n",
       "</div>"
      ],
      "text/plain": [
       "         0        1        2\n",
       "0  DB00073  D008206  DB12240\n",
       "1  DB00741  D011085  DB01234\n",
       "2  DB06186  D011471  DB00958\n",
       "3  DB00002  D006258  DB00958\n",
       "4  DB06186  D009375  DB01611\n",
       "5  DB01101  D005767  DB00112\n",
       "6  DB11581  D015448  DB11703\n",
       "7  DB05812  D009370  DB11901\n",
       "8  DB06626  D007674  DB01268\n",
       "9  DB00073  D007160  DB15140"
      ]
     },
     "execution_count": 6,
     "metadata": {},
     "output_type": "execute_result"
    }
   ],
   "source": [
    "triplets.head(10)"
   ]
  },
  {
   "cell_type": "code",
   "execution_count": 7,
   "id": "8ac4b28f",
   "metadata": {},
   "outputs": [],
   "source": [
    "drugs = pd.DataFrame(pd.concat([triplets[0],triplets[2]]).unique())"
   ]
  },
  {
   "cell_type": "code",
   "execution_count": 8,
   "id": "d47fec56",
   "metadata": {},
   "outputs": [
    {
     "data": {
      "text/plain": [
       "(1105, 1)"
      ]
     },
     "execution_count": 8,
     "metadata": {},
     "output_type": "execute_result"
    }
   ],
   "source": [
    "drugs.shape"
   ]
  },
  {
   "cell_type": "code",
   "execution_count": 9,
   "id": "40703c27",
   "metadata": {},
   "outputs": [
    {
     "data": {
      "text/plain": [
       "pandas.core.frame.DataFrame"
      ]
     },
     "execution_count": 9,
     "metadata": {},
     "output_type": "execute_result"
    }
   ],
   "source": [
    "type(drugs)"
   ]
  },
  {
   "cell_type": "code",
   "execution_count": 10,
   "id": "64ac92d7",
   "metadata": {},
   "outputs": [],
   "source": [
    "drugs = drugs.head(100)"
   ]
  },
  {
   "cell_type": "code",
   "execution_count": 11,
   "id": "338d773d",
   "metadata": {},
   "outputs": [
    {
     "data": {
      "text/html": [
       "<div>\n",
       "<style scoped>\n",
       "    .dataframe tbody tr th:only-of-type {\n",
       "        vertical-align: middle;\n",
       "    }\n",
       "\n",
       "    .dataframe tbody tr th {\n",
       "        vertical-align: top;\n",
       "    }\n",
       "\n",
       "    .dataframe thead th {\n",
       "        text-align: right;\n",
       "    }\n",
       "</style>\n",
       "<table border=\"1\" class=\"dataframe\">\n",
       "  <thead>\n",
       "    <tr style=\"text-align: right;\">\n",
       "      <th></th>\n",
       "      <th>0</th>\n",
       "    </tr>\n",
       "  </thead>\n",
       "  <tbody>\n",
       "    <tr>\n",
       "      <th>0</th>\n",
       "      <td>DB00073</td>\n",
       "    </tr>\n",
       "    <tr>\n",
       "      <th>1</th>\n",
       "      <td>DB00741</td>\n",
       "    </tr>\n",
       "    <tr>\n",
       "      <th>2</th>\n",
       "      <td>DB06186</td>\n",
       "    </tr>\n",
       "    <tr>\n",
       "      <th>3</th>\n",
       "      <td>DB00002</td>\n",
       "    </tr>\n",
       "    <tr>\n",
       "      <th>4</th>\n",
       "      <td>DB01101</td>\n",
       "    </tr>\n",
       "    <tr>\n",
       "      <th>...</th>\n",
       "      <td>...</td>\n",
       "    </tr>\n",
       "    <tr>\n",
       "      <th>95</th>\n",
       "      <td>DB11730</td>\n",
       "    </tr>\n",
       "    <tr>\n",
       "      <th>96</th>\n",
       "      <td>DB00688</td>\n",
       "    </tr>\n",
       "    <tr>\n",
       "      <th>97</th>\n",
       "      <td>DB00695</td>\n",
       "    </tr>\n",
       "    <tr>\n",
       "      <th>98</th>\n",
       "      <td>DB00305</td>\n",
       "    </tr>\n",
       "    <tr>\n",
       "      <th>99</th>\n",
       "      <td>DB08911</td>\n",
       "    </tr>\n",
       "  </tbody>\n",
       "</table>\n",
       "<p>100 rows × 1 columns</p>\n",
       "</div>"
      ],
      "text/plain": [
       "          0\n",
       "0   DB00073\n",
       "1   DB00741\n",
       "2   DB06186\n",
       "3   DB00002\n",
       "4   DB01101\n",
       "..      ...\n",
       "95  DB11730\n",
       "96  DB00688\n",
       "97  DB00695\n",
       "98  DB00305\n",
       "99  DB08911\n",
       "\n",
       "[100 rows x 1 columns]"
      ]
     },
     "execution_count": 11,
     "metadata": {},
     "output_type": "execute_result"
    }
   ],
   "source": [
    "drugs"
   ]
  },
  {
   "cell_type": "code",
   "execution_count": 18,
   "id": "1195e788",
   "metadata": {},
   "outputs": [
    {
     "data": {
      "text/plain": [
       "(4950, 3)"
      ]
     },
     "execution_count": 18,
     "metadata": {},
     "output_type": "execute_result"
    }
   ],
   "source": [
    "test_trip = []\n",
    "for i in range(len(drugs)):\n",
    "    for j in range(i+1,len(drugs)):\n",
    "        tri = [i,2,j]\n",
    "        test_trip.append(tri)\n",
    "test_trip = pd.DataFrame(test_trip)\n",
    "test_trip.shape"
   ]
  },
  {
   "cell_type": "code",
   "execution_count": 19,
   "id": "94385233",
   "metadata": {},
   "outputs": [
    {
     "data": {
      "text/html": [
       "<div>\n",
       "<style scoped>\n",
       "    .dataframe tbody tr th:only-of-type {\n",
       "        vertical-align: middle;\n",
       "    }\n",
       "\n",
       "    .dataframe tbody tr th {\n",
       "        vertical-align: top;\n",
       "    }\n",
       "\n",
       "    .dataframe thead th {\n",
       "        text-align: right;\n",
       "    }\n",
       "</style>\n",
       "<table border=\"1\" class=\"dataframe\">\n",
       "  <thead>\n",
       "    <tr style=\"text-align: right;\">\n",
       "      <th></th>\n",
       "      <th>0</th>\n",
       "      <th>1</th>\n",
       "      <th>2</th>\n",
       "    </tr>\n",
       "  </thead>\n",
       "  <tbody>\n",
       "    <tr>\n",
       "      <th>0</th>\n",
       "      <td>0</td>\n",
       "      <td>2</td>\n",
       "      <td>1</td>\n",
       "    </tr>\n",
       "    <tr>\n",
       "      <th>1</th>\n",
       "      <td>0</td>\n",
       "      <td>2</td>\n",
       "      <td>2</td>\n",
       "    </tr>\n",
       "    <tr>\n",
       "      <th>2</th>\n",
       "      <td>0</td>\n",
       "      <td>2</td>\n",
       "      <td>3</td>\n",
       "    </tr>\n",
       "    <tr>\n",
       "      <th>3</th>\n",
       "      <td>0</td>\n",
       "      <td>2</td>\n",
       "      <td>4</td>\n",
       "    </tr>\n",
       "    <tr>\n",
       "      <th>4</th>\n",
       "      <td>0</td>\n",
       "      <td>2</td>\n",
       "      <td>5</td>\n",
       "    </tr>\n",
       "    <tr>\n",
       "      <th>5</th>\n",
       "      <td>0</td>\n",
       "      <td>2</td>\n",
       "      <td>6</td>\n",
       "    </tr>\n",
       "    <tr>\n",
       "      <th>6</th>\n",
       "      <td>0</td>\n",
       "      <td>2</td>\n",
       "      <td>7</td>\n",
       "    </tr>\n",
       "    <tr>\n",
       "      <th>7</th>\n",
       "      <td>0</td>\n",
       "      <td>2</td>\n",
       "      <td>8</td>\n",
       "    </tr>\n",
       "    <tr>\n",
       "      <th>8</th>\n",
       "      <td>0</td>\n",
       "      <td>2</td>\n",
       "      <td>9</td>\n",
       "    </tr>\n",
       "    <tr>\n",
       "      <th>9</th>\n",
       "      <td>0</td>\n",
       "      <td>2</td>\n",
       "      <td>10</td>\n",
       "    </tr>\n",
       "  </tbody>\n",
       "</table>\n",
       "</div>"
      ],
      "text/plain": [
       "   0  1   2\n",
       "0  0  2   1\n",
       "1  0  2   2\n",
       "2  0  2   3\n",
       "3  0  2   4\n",
       "4  0  2   5\n",
       "5  0  2   6\n",
       "6  0  2   7\n",
       "7  0  2   8\n",
       "8  0  2   9\n",
       "9  0  2  10"
      ]
     },
     "execution_count": 19,
     "metadata": {},
     "output_type": "execute_result"
    }
   ],
   "source": [
    "test_trip.head(10)"
   ]
  },
  {
   "cell_type": "code",
   "execution_count": 21,
   "id": "308a9fa2",
   "metadata": {},
   "outputs": [
    {
     "ename": "TypeError",
     "evalue": "expected Tensor as element 0 in argument 0, but got numpy.ndarray",
     "output_type": "error",
     "traceback": [
      "\u001b[1;31m---------------------------------------------------------------------------\u001b[0m",
      "\u001b[1;31mTypeError\u001b[0m                                 Traceback (most recent call last)",
      "Cell \u001b[1;32mIn [21], line 8\u001b[0m\n\u001b[0;32m      4\u001b[0m relabeled_edges \u001b[38;5;241m=\u001b[39m np\u001b[38;5;241m.\u001b[39mstack((src, rel, dst))\u001b[38;5;241m.\u001b[39mtranspose()\n\u001b[0;32m      7\u001b[0m \u001b[38;5;66;03m# Create bi-directional graph\u001b[39;00m\n\u001b[1;32m----> 8\u001b[0m src, dst \u001b[38;5;241m=\u001b[39m \u001b[43mtorch\u001b[49m\u001b[38;5;241;43m.\u001b[39;49m\u001b[43mcat\u001b[49m\u001b[43m(\u001b[49m\u001b[43m(\u001b[49m\u001b[43msrc\u001b[49m\u001b[43m,\u001b[49m\u001b[43m \u001b[49m\u001b[43mdst\u001b[49m\u001b[43m)\u001b[49m\u001b[43m)\u001b[49m, torch\u001b[38;5;241m.\u001b[39mcat((dst, src))\n\u001b[0;32m      9\u001b[0m rel \u001b[38;5;241m=\u001b[39m torch\u001b[38;5;241m.\u001b[39mcat((rel, rel \u001b[38;5;241m+\u001b[39m num_rels))\n\u001b[0;32m     11\u001b[0m edge_index \u001b[38;5;241m=\u001b[39m torch\u001b[38;5;241m.\u001b[39mstack((src, dst))\n",
      "\u001b[1;31mTypeError\u001b[0m: expected Tensor as element 0 in argument 0, but got numpy.ndarray"
     ]
    }
   ],
   "source": [
    "src, rel, dst = np.array(test_trip).transpose()\n",
    "uniq_entity, edges = np.unique((src, dst), return_inverse=True)\n",
    "src, dst = np.reshape(edges, (2, -1))\n",
    "relabeled_edges = np.stack((src, rel, dst)).transpose()\n",
    "\n",
    "\n",
    "# Create bi-directional graph\n",
    "src, dst = torch.cat((src, dst)), torch.cat((dst, src))\n",
    "rel = torch.cat((rel, rel + num_rels))\n",
    "\n",
    "edge_index = torch.stack((src, dst))\n",
    "edge_type = rel\n",
    "\n",
    "data = Data(edge_index = edge_index)\n",
    "data.entity = torch.from_numpy(uniq_entity)\n",
    "data.edge_type = edge_type\n",
    "data.edge_norm = edge_normalization(edge_type, edge_index, len(uniq_entity), num_rels)\n",
    "# data.samples = torch.from_numpy(samples)\n",
    "# data.labels = torch.from_numpy(labels)"
   ]
  },
  {
   "cell_type": "code",
   "execution_count": 14,
   "id": "17f77618",
   "metadata": {},
   "outputs": [],
   "source": [
    "checkpoint = torch.load('best_mrr_model.pth')"
   ]
  },
  {
   "cell_type": "code",
   "execution_count": 16,
   "id": "dde0c0ef",
   "metadata": {},
   "outputs": [],
   "source": [
    "model = RGCN(1105,1283,4,1)"
   ]
  },
  {
   "cell_type": "code",
   "execution_count": 17,
   "id": "979b565c",
   "metadata": {},
   "outputs": [
    {
     "data": {
      "text/plain": [
       "<All keys matched successfully>"
      ]
     },
     "execution_count": 17,
     "metadata": {},
     "output_type": "execute_result"
    }
   ],
   "source": [
    "model.load_state_dict(checkpoint['state_dict'])"
   ]
  },
  {
   "cell_type": "code",
   "execution_count": null,
   "id": "07b7dc8f",
   "metadata": {},
   "outputs": [],
   "source": [
    "model.eval()\n",
    "entity_embedding = model(range(100), train_data.edge_index, train_data.edge_type, train_data.edge_norm)\n"
   ]
  }
 ],
 "metadata": {
  "kernelspec": {
   "display_name": "Python [conda env:work3] *",
   "language": "python",
   "name": "conda-env-work3-py"
  },
  "language_info": {
   "codemirror_mode": {
    "name": "ipython",
    "version": 3
   },
   "file_extension": ".py",
   "mimetype": "text/x-python",
   "name": "python",
   "nbconvert_exporter": "python",
   "pygments_lexer": "ipython3",
   "version": "3.8.13"
  }
 },
 "nbformat": 4,
 "nbformat_minor": 5
}
