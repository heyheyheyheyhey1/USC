{
 "cells": [
  {
   "cell_type": "code",
   "execution_count": 1,
   "id": "initial_id",
   "metadata": {
    "collapsed": true,
    "ExecuteTime": {
     "end_time": "2023-10-28T03:12:01.362743700Z",
     "start_time": "2023-10-28T03:12:00.942410800Z"
    }
   },
   "outputs": [],
   "source": [
    "import pandas as pd"
   ]
  },
  {
   "cell_type": "code",
   "execution_count": 2,
   "outputs": [
    {
     "data": {
      "text/plain": "                       Unnamed: 0   round_0   round_1   round_2   round_3  \\\n0   generator_n_527_acc_0.500.pth  0.561839  0.478851  0.617011  0.417931   \n1   generator_n_569_acc_0.500.pth  0.574713  0.526667  0.472644  0.424598   \n2   generator_n_496_acc_0.500.pth  0.431494  0.432184  0.493333  0.548276   \n3   generator_n_606_acc_0.500.pth  0.500460  0.424138  0.540460  0.561379   \n4   generator_n_574_acc_0.494.pth  0.493333  0.507126  0.561379  0.540460   \n..                            ...       ...       ...       ...       ...   \n56  generator_n_612_acc_0.487.pth  0.513793  0.574943  0.575632  0.397011   \n57  generator_n_441_acc_0.500.pth  0.507356  0.657471  0.595862  0.554713   \n58  generator_n_653_acc_0.501.pth  0.582299  0.562299  0.527586  0.548506   \n59  generator_n_646_acc_0.513.pth  0.560690  0.615862  0.499540  0.514713   \n60  generator_n_673_acc_0.514.pth  0.731954  0.685057  0.568506  0.637471   \n\n     round_4   round_5   round_6   round_7   round_8  ...  round_193  \\\n0   0.499770  0.444598  0.506667  0.533793  0.560920  ...   0.554713   \n1   0.513563  0.568506  0.486897  0.472874  0.561609  ...   0.383218   \n2   0.500920  0.486437  0.479770  0.478851  0.506207  ...   0.588966   \n3   0.486437  0.636322  0.582529  0.520230  0.322299  ...   0.499540   \n4   0.568966  0.507356  0.527126  0.548046  0.541609  ...   0.541839   \n..       ...       ...       ...       ...       ...  ...        ...   \n56  0.500230  0.629195  0.588736  0.615632  0.630115  ...   0.541839   \n57  0.561379  0.472644  0.547586  0.562069  0.555172  ...   0.602759   \n58  0.471954  0.670575  0.567816  0.548276  0.485517  ...   0.615402   \n59  0.567586  0.499770  0.595402  0.513333  0.575402  ...   0.520690   \n60  0.581839  0.603908  0.609425  0.595402  0.635862  ...   0.685747   \n\n    round_194  round_195  round_196  round_197  round_198  round_199     mean  \\\n0    0.478851   0.527586   0.506437   0.512644   0.514253   0.487126  0.50208   \n1    0.485977   0.396782   0.528046   0.513563   0.561379   0.425057  0.50173   \n2    0.473103   0.479080   0.479770   0.431264   0.534483   0.493103  0.50325   \n3    0.492874   0.404368   0.534023   0.458621   0.513793   0.568966  0.50327   \n4    0.548736   0.575632   0.465287   0.541149   0.500230   0.554943  0.50424   \n..        ...        ...        ...        ...        ...        ...      ...   \n56   0.609885   0.630345   0.575862   0.595402   0.547586   0.540690  0.55661   \n57   0.554943   0.547126   0.582529   0.582759   0.542069   0.609425  0.55782   \n58   0.465977   0.445747   0.560920   0.616092   0.609425   0.568046  0.55991   \n59   0.548506   0.527586   0.520690   0.616322   0.547126   0.465747  0.57236   \n60   0.671494   0.623448   0.656552   0.617241   0.624138   0.574713  0.61328   \n\n        var  threshold  \n0   0.00244    0.00039  \n1   0.00288    0.00074  \n2   0.00236    0.00077  \n3   0.00309    0.00079  \n4   0.00255    0.00175  \n..      ...        ...  \n56  0.00325    0.05388  \n57  0.00199    0.05507  \n58  0.00221    0.05715  \n59  0.00298    0.06954  \n60  0.00264    0.11025  \n\n[61 rows x 204 columns]",
      "text/html": "<div>\n<style scoped>\n    .dataframe tbody tr th:only-of-type {\n        vertical-align: middle;\n    }\n\n    .dataframe tbody tr th {\n        vertical-align: top;\n    }\n\n    .dataframe thead th {\n        text-align: right;\n    }\n</style>\n<table border=\"1\" class=\"dataframe\">\n  <thead>\n    <tr style=\"text-align: right;\">\n      <th></th>\n      <th>Unnamed: 0</th>\n      <th>round_0</th>\n      <th>round_1</th>\n      <th>round_2</th>\n      <th>round_3</th>\n      <th>round_4</th>\n      <th>round_5</th>\n      <th>round_6</th>\n      <th>round_7</th>\n      <th>round_8</th>\n      <th>...</th>\n      <th>round_193</th>\n      <th>round_194</th>\n      <th>round_195</th>\n      <th>round_196</th>\n      <th>round_197</th>\n      <th>round_198</th>\n      <th>round_199</th>\n      <th>mean</th>\n      <th>var</th>\n      <th>threshold</th>\n    </tr>\n  </thead>\n  <tbody>\n    <tr>\n      <th>0</th>\n      <td>generator_n_527_acc_0.500.pth</td>\n      <td>0.561839</td>\n      <td>0.478851</td>\n      <td>0.617011</td>\n      <td>0.417931</td>\n      <td>0.499770</td>\n      <td>0.444598</td>\n      <td>0.506667</td>\n      <td>0.533793</td>\n      <td>0.560920</td>\n      <td>...</td>\n      <td>0.554713</td>\n      <td>0.478851</td>\n      <td>0.527586</td>\n      <td>0.506437</td>\n      <td>0.512644</td>\n      <td>0.514253</td>\n      <td>0.487126</td>\n      <td>0.50208</td>\n      <td>0.00244</td>\n      <td>0.00039</td>\n    </tr>\n    <tr>\n      <th>1</th>\n      <td>generator_n_569_acc_0.500.pth</td>\n      <td>0.574713</td>\n      <td>0.526667</td>\n      <td>0.472644</td>\n      <td>0.424598</td>\n      <td>0.513563</td>\n      <td>0.568506</td>\n      <td>0.486897</td>\n      <td>0.472874</td>\n      <td>0.561609</td>\n      <td>...</td>\n      <td>0.383218</td>\n      <td>0.485977</td>\n      <td>0.396782</td>\n      <td>0.528046</td>\n      <td>0.513563</td>\n      <td>0.561379</td>\n      <td>0.425057</td>\n      <td>0.50173</td>\n      <td>0.00288</td>\n      <td>0.00074</td>\n    </tr>\n    <tr>\n      <th>2</th>\n      <td>generator_n_496_acc_0.500.pth</td>\n      <td>0.431494</td>\n      <td>0.432184</td>\n      <td>0.493333</td>\n      <td>0.548276</td>\n      <td>0.500920</td>\n      <td>0.486437</td>\n      <td>0.479770</td>\n      <td>0.478851</td>\n      <td>0.506207</td>\n      <td>...</td>\n      <td>0.588966</td>\n      <td>0.473103</td>\n      <td>0.479080</td>\n      <td>0.479770</td>\n      <td>0.431264</td>\n      <td>0.534483</td>\n      <td>0.493103</td>\n      <td>0.50325</td>\n      <td>0.00236</td>\n      <td>0.00077</td>\n    </tr>\n    <tr>\n      <th>3</th>\n      <td>generator_n_606_acc_0.500.pth</td>\n      <td>0.500460</td>\n      <td>0.424138</td>\n      <td>0.540460</td>\n      <td>0.561379</td>\n      <td>0.486437</td>\n      <td>0.636322</td>\n      <td>0.582529</td>\n      <td>0.520230</td>\n      <td>0.322299</td>\n      <td>...</td>\n      <td>0.499540</td>\n      <td>0.492874</td>\n      <td>0.404368</td>\n      <td>0.534023</td>\n      <td>0.458621</td>\n      <td>0.513793</td>\n      <td>0.568966</td>\n      <td>0.50327</td>\n      <td>0.00309</td>\n      <td>0.00079</td>\n    </tr>\n    <tr>\n      <th>4</th>\n      <td>generator_n_574_acc_0.494.pth</td>\n      <td>0.493333</td>\n      <td>0.507126</td>\n      <td>0.561379</td>\n      <td>0.540460</td>\n      <td>0.568966</td>\n      <td>0.507356</td>\n      <td>0.527126</td>\n      <td>0.548046</td>\n      <td>0.541609</td>\n      <td>...</td>\n      <td>0.541839</td>\n      <td>0.548736</td>\n      <td>0.575632</td>\n      <td>0.465287</td>\n      <td>0.541149</td>\n      <td>0.500230</td>\n      <td>0.554943</td>\n      <td>0.50424</td>\n      <td>0.00255</td>\n      <td>0.00175</td>\n    </tr>\n    <tr>\n      <th>...</th>\n      <td>...</td>\n      <td>...</td>\n      <td>...</td>\n      <td>...</td>\n      <td>...</td>\n      <td>...</td>\n      <td>...</td>\n      <td>...</td>\n      <td>...</td>\n      <td>...</td>\n      <td>...</td>\n      <td>...</td>\n      <td>...</td>\n      <td>...</td>\n      <td>...</td>\n      <td>...</td>\n      <td>...</td>\n      <td>...</td>\n      <td>...</td>\n      <td>...</td>\n      <td>...</td>\n    </tr>\n    <tr>\n      <th>56</th>\n      <td>generator_n_612_acc_0.487.pth</td>\n      <td>0.513793</td>\n      <td>0.574943</td>\n      <td>0.575632</td>\n      <td>0.397011</td>\n      <td>0.500230</td>\n      <td>0.629195</td>\n      <td>0.588736</td>\n      <td>0.615632</td>\n      <td>0.630115</td>\n      <td>...</td>\n      <td>0.541839</td>\n      <td>0.609885</td>\n      <td>0.630345</td>\n      <td>0.575862</td>\n      <td>0.595402</td>\n      <td>0.547586</td>\n      <td>0.540690</td>\n      <td>0.55661</td>\n      <td>0.00325</td>\n      <td>0.05388</td>\n    </tr>\n    <tr>\n      <th>57</th>\n      <td>generator_n_441_acc_0.500.pth</td>\n      <td>0.507356</td>\n      <td>0.657471</td>\n      <td>0.595862</td>\n      <td>0.554713</td>\n      <td>0.561379</td>\n      <td>0.472644</td>\n      <td>0.547586</td>\n      <td>0.562069</td>\n      <td>0.555172</td>\n      <td>...</td>\n      <td>0.602759</td>\n      <td>0.554943</td>\n      <td>0.547126</td>\n      <td>0.582529</td>\n      <td>0.582759</td>\n      <td>0.542069</td>\n      <td>0.609425</td>\n      <td>0.55782</td>\n      <td>0.00199</td>\n      <td>0.05507</td>\n    </tr>\n    <tr>\n      <th>58</th>\n      <td>generator_n_653_acc_0.501.pth</td>\n      <td>0.582299</td>\n      <td>0.562299</td>\n      <td>0.527586</td>\n      <td>0.548506</td>\n      <td>0.471954</td>\n      <td>0.670575</td>\n      <td>0.567816</td>\n      <td>0.548276</td>\n      <td>0.485517</td>\n      <td>...</td>\n      <td>0.615402</td>\n      <td>0.465977</td>\n      <td>0.445747</td>\n      <td>0.560920</td>\n      <td>0.616092</td>\n      <td>0.609425</td>\n      <td>0.568046</td>\n      <td>0.55991</td>\n      <td>0.00221</td>\n      <td>0.05715</td>\n    </tr>\n    <tr>\n      <th>59</th>\n      <td>generator_n_646_acc_0.513.pth</td>\n      <td>0.560690</td>\n      <td>0.615862</td>\n      <td>0.499540</td>\n      <td>0.514713</td>\n      <td>0.567586</td>\n      <td>0.499770</td>\n      <td>0.595402</td>\n      <td>0.513333</td>\n      <td>0.575402</td>\n      <td>...</td>\n      <td>0.520690</td>\n      <td>0.548506</td>\n      <td>0.527586</td>\n      <td>0.520690</td>\n      <td>0.616322</td>\n      <td>0.547126</td>\n      <td>0.465747</td>\n      <td>0.57236</td>\n      <td>0.00298</td>\n      <td>0.06954</td>\n    </tr>\n    <tr>\n      <th>60</th>\n      <td>generator_n_673_acc_0.514.pth</td>\n      <td>0.731954</td>\n      <td>0.685057</td>\n      <td>0.568506</td>\n      <td>0.637471</td>\n      <td>0.581839</td>\n      <td>0.603908</td>\n      <td>0.609425</td>\n      <td>0.595402</td>\n      <td>0.635862</td>\n      <td>...</td>\n      <td>0.685747</td>\n      <td>0.671494</td>\n      <td>0.623448</td>\n      <td>0.656552</td>\n      <td>0.617241</td>\n      <td>0.624138</td>\n      <td>0.574713</td>\n      <td>0.61328</td>\n      <td>0.00264</td>\n      <td>0.11025</td>\n    </tr>\n  </tbody>\n</table>\n<p>61 rows × 204 columns</p>\n</div>"
     },
     "execution_count": 2,
     "metadata": {},
     "output_type": "execute_result"
    }
   ],
   "source": [
    "CTST_result = pd.read_csv(\"model/wgangp/CTST_result.csv\")\n",
    "CTST_result"
   ],
   "metadata": {
    "collapsed": false,
    "ExecuteTime": {
     "end_time": "2023-10-28T03:12:51.435395400Z",
     "start_time": "2023-10-28T03:12:51.382637300Z"
    }
   },
   "id": "3876e39a0455c84e"
  },
  {
   "cell_type": "code",
   "execution_count": 4,
   "outputs": [
    {
     "data": {
      "text/plain": "0     0.50208\n1     0.50173\n2     0.50325\n3     0.50327\n4     0.50424\n       ...   \n56    0.55661\n57    0.55782\n58    0.55991\n59    0.57236\n60    0.61328\nName: mean, Length: 61, dtype: float64"
     },
     "execution_count": 4,
     "metadata": {},
     "output_type": "execute_result"
    }
   ],
   "source": [
    "mean = CTST_result[\"mean\"]\n",
    "mean"
   ],
   "metadata": {
    "collapsed": false,
    "ExecuteTime": {
     "end_time": "2023-10-28T03:13:21.280859400Z",
     "start_time": "2023-10-28T03:13:21.269674700Z"
    }
   },
   "id": "cc9190cd0d313739"
  },
  {
   "cell_type": "code",
   "execution_count": 5,
   "outputs": [],
   "source": [
    "import matplotlib.pyplot as plt"
   ],
   "metadata": {
    "collapsed": false,
    "ExecuteTime": {
     "end_time": "2023-10-28T03:14:45.767441200Z",
     "start_time": "2023-10-28T03:14:45.401424900Z"
    }
   },
   "id": "7fa7199dc9e38fae"
  },
  {
   "cell_type": "code",
   "execution_count": 41,
   "outputs": [
    {
     "data": {
      "text/plain": "0     0.50208\n1     0.50173\n2     0.50325\n3     0.50327\n4     0.50424\n       ...   \n56    0.55661\n57    0.55782\n58    0.55991\n59    0.57236\n60    0.61328\nName: mean, Length: 61, dtype: float64"
     },
     "execution_count": 41,
     "metadata": {},
     "output_type": "execute_result"
    }
   ],
   "source": [
    "greeny = [value for index,value in enumerate(mean) if abs(value-0.5)<=0.02]\n",
    "greenx = [index for index,value in enumerate(mean) if abs(value-0.5)<=0.02]"
   ],
   "metadata": {
    "collapsed": false,
    "ExecuteTime": {
     "end_time": "2023-10-28T08:43:19.027147200Z",
     "start_time": "2023-10-28T08:43:18.995641300Z"
    }
   },
   "id": "d6a93faa26052cbe"
  },
  {
   "cell_type": "code",
   "execution_count": 46,
   "outputs": [
    {
     "data": {
      "text/plain": "<Figure size 640x480 with 1 Axes>",
      "image/png": "[encoded data removed]"
     },
     "metadata": {},
     "output_type": "display_data"
    }
   ],
   "source": [
    "plt.figure()\n",
    "plt.axis(ymax = 1.05,xmax = 62,xmin = -1,ymin=-0.02)\n",
    "\n",
    "greeny = [value for index,value in enumerate(mean) if abs(value-0.5)<=0.02]\n",
    "greenx = [index for index,value in enumerate(mean) if abs(value-0.5)<=0.02]\n",
    "plt.scatter(greenx,greeny, c=\"green\" )\n",
    "\n",
    "orangey = [value for index,value in enumerate(mean) if 0.02< abs(value-0.5)<=0.1]\n",
    "orangex = [index for index,value in enumerate(mean) if 0.02< abs(value-0.5)<=0.1]\n",
    "plt.scatter(orangex,orangey, c=\"orange\" )\n",
    "\n",
    "redy = [value for index,value in enumerate(mean) if 0.1< abs(value-0.5)]\n",
    "redx = [index for index,value in enumerate(mean) if 0.1< abs(value-0.5)]\n",
    "plt.scatter(redx,redy, c=\"red\" )\n",
    "\n",
    "plt.xlabel('X: model index')\n",
    "plt.ylabel('Y: CTST accuracy')\n",
    "plt.grid(True,linestyle = '--')\n",
    "plt.yticks([0,0.2,0.4,0.5,0.6,0.8,1.0])\n",
    "plt.grid(axis='x')\n",
    "# plt.tight_layout()\n",
    "# plt.subplots_adjust(top=1)\n",
    "plt.gca().set_aspect(30)\n",
    "plt.savefig(\"visualize_CTST.png\", bbox_inches='tight')\n",
    "plt.show()"
   ],
   "metadata": {
    "collapsed": false,
    "ExecuteTime": {
     "end_time": "2023-10-28T09:05:16.367674200Z",
     "start_time": "2023-10-28T09:05:16.045651200Z"
    }
   },
   "id": "5618258c7f0957c6"
  },
  {
   "cell_type": "code",
   "execution_count": null,
   "outputs": [],
   "source": [],
   "metadata": {
    "collapsed": false
   },
   "id": "d05d4a0e83efea33"
  }
 ],
 "metadata": {
  "kernelspec": {
   "display_name": "Python 3",
   "language": "python",
   "name": "python3"
  },
  "language_info": {
   "codemirror_mode": {
    "name": "ipython",
    "version": 2
   },
   "file_extension": ".py",
   "mimetype": "text/x-python",
   "name": "python",
   "nbconvert_exporter": "python",
   "pygments_lexer": "ipython2",
   "version": "2.7.6"
  }
 },
 "nbformat": 4,
 "nbformat_minor": 5
}
